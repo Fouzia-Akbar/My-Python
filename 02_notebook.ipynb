{
 "cells": [
  {
   "cell_type": "markdown",
   "metadata": {},
   "source": [
    "###         Outliers:"
   ]
  },
  {
   "cell_type": "markdown",
   "metadata": {},
   "source": [
    "* Detecting and handling outliers is an important step in the data preprocessing phase of a data science project. Outliers are data points that significantly differ from the rest of the data and can distort the results of data analysis and modeling. In Python, you can use various techniques to identify and handle outliers. Here's a complete guide on how to do it:\n",
    "\n"
   ]
  },
  {
   "cell_type": "markdown",
   "metadata": {},
   "source": [
    "###  Import Libraries:     \n",
    "Import the necessary libraries, including NumPy, Pandas, and Matplotlib for data manipulation, analysis, and visualization, as well as libraries for statistical methods"
   ]
  },
  {
   "cell_type": "code",
   "execution_count": 1,
   "metadata": {},
   "outputs": [],
   "source": [
    "import numpy as np\n",
    "import pandas as pd\n",
    "import matplotlib.pyplot as plt\n",
    "from scipy import stats\n"
   ]
  },
  {
   "cell_type": "markdown",
   "metadata": {},
   "source": [
    "### Load and Explore Data:      \n",
    "Load your dataset using Pandas and explore it to get a sense of the data."
   ]
  },
  {
   "cell_type": "code",
   "execution_count": null,
   "metadata": {},
   "outputs": [],
   "source": [
    "data = pd.read_csv('your_data.csv')\n"
   ]
  },
  {
   "cell_type": "markdown",
   "metadata": {},
   "source": [
    "### Visualize the Data:        \n",
    "Visualize your data to get an initial sense of any potential outliers. Box plots, histograms, and scatter plots are useful for this purpose.\n",
    "\n"
   ]
  },
  {
   "cell_type": "code",
   "execution_count": null,
   "metadata": {},
   "outputs": [],
   "source": [
    "plt.boxplot(data['column_name'])\n",
    "plt.show()\n"
   ]
  },
  {
   "cell_type": "markdown",
   "metadata": {},
   "source": [
    "### Identify Outliers:\n",
    "There are several methods to identify outliers:\n",
    "\n",
    "* Z-Score Method:\n",
    "\n",
    " Calculate the Z-scores of your data, and data points with a high absolute Z-score (typically greater than 2 or 3) can be considered outliers"
   ]
  },
  {
   "cell_type": "code",
   "execution_count": null,
   "metadata": {},
   "outputs": [],
   "source": [
    "z_scores = np.abs(stats.zscore(data['column_name']))\n",
    "outliers = data[(z_scores > 3)]\n"
   ]
  },
  {
   "cell_type": "markdown",
   "metadata": {},
   "source": [
    "* IQR Method:        \n",
    "       Use the Interquartile Range (IQR) to detect outliers. Data points below Q1 - 1.5 * IQR or above Q3 + 1.5 * IQR can be considered outliers.\n"
   ]
  },
  {
   "cell_type": "code",
   "execution_count": null,
   "metadata": {},
   "outputs": [],
   "source": [
    "Q1 = data['column_name'].quantile(0.25)\n",
    "Q3 = data['column_name'].quantile(0.75)\n",
    "IQR = Q3 - Q1\n",
    "outliers = data[(data['column_name'] < Q1 - 1.5 * IQR) | (data['column_name'] > Q3 + 1.5 * IQR)]\n"
   ]
  },
  {
   "cell_type": "markdown",
   "metadata": {},
   "source": [
    "###  Handle Outliers:\n",
    "Depending on the nature of your data and the specific problem, you can choose to handle outliers in different ways:"
   ]
  },
  {
   "cell_type": "markdown",
   "metadata": {},
   "source": [
    "* Remove Outliers:\n",
    "\n",
    " Simply remove the outlier data points from your dataset.\n"
   ]
  },
  {
   "cell_type": "code",
   "execution_count": null,
   "metadata": {},
   "outputs": [],
   "source": [
    "data = data[(z_scores < 3)]\n"
   ]
  },
  {
   "cell_type": "markdown",
   "metadata": {},
   "source": [
    "* Transform Data:\n",
    "\n",
    " Apply a transformation (e.g., log transformation) to reduce the impact of outliers.\n"
   ]
  },
  {
   "cell_type": "code",
   "execution_count": null,
   "metadata": {},
   "outputs": [],
   "source": [
    "data['column_name'] = np.log(data['column_name'])\n"
   ]
  },
  {
   "cell_type": "markdown",
   "metadata": {},
   "source": [
    "* Impute Outliers: \n",
    " Replace outliers with more typical values. You can use the median, mean, or a custom value.\n"
   ]
  },
  {
   "cell_type": "markdown",
   "metadata": {},
   "source": [
    "data['column_name'][outliers] = data['column_name'].median()\n"
   ]
  },
  {
   "cell_type": "markdown",
   "metadata": {},
   "source": [
    "* Validate Results:\n",
    "After handling outliers, visualize the data again to ensure that the outliers have been effectively managed.\n",
    "\n"
   ]
  },
  {
   "cell_type": "code",
   "execution_count": null,
   "metadata": {},
   "outputs": [],
   "source": [
    "plt.boxplot(data['column_name'])\n",
    "plt.show()\n"
   ]
  },
  {
   "cell_type": "markdown",
   "metadata": {},
   "source": []
  }
 ],
 "metadata": {
  "kernelspec": {
   "display_name": "condapy3.11.5",
   "language": "python",
   "name": "python3"
  },
  "language_info": {
   "codemirror_mode": {
    "name": "ipython",
    "version": 3
   },
   "file_extension": ".py",
   "mimetype": "text/x-python",
   "name": "python",
   "nbconvert_exporter": "python",
   "pygments_lexer": "ipython3",
   "version": "3.11.5"
  }
 },
 "nbformat": 4,
 "nbformat_minor": 2
}
